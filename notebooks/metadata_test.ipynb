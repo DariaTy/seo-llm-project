from src.data_preprocessing.preprocess import preprocess_article
from src.llm_inference.prompt_engineer import generate_seo_metadata
from src.embedding_search.similarity import find_similar_texts

article = "This is a sample article about SEO best practices in content writing."

preprocessed_article = preprocess_article(article)
print("Preprocessed Article:", preprocessed_article)

historical_metadata = ["SEO Best Practices for 2023", "SEO Techniques for Content Writing"]
historical_embeddings = [...]  # Example embeddings

metadata = generate_seo_metadata(preprocessed_article, historical_metadata, historical_embeddings)
print("Generated Metadata:", metadata)

similar_metadata = find_similar_texts(metadata['title'], historical_metadata)
print("Similar Metadata Found:", similar_metadata)
